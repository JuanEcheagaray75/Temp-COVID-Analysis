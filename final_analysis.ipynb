{
 "cells": [
  {
   "cell_type": "markdown",
   "metadata": {},
   "source": [
    "# Análisis final\n",
    "\n",
    "Equipo 2\n",
    "\n",
    "Modelación estadística para la toma de decisiones"
   ]
  },
  {
   "cell_type": "markdown",
   "metadata": {},
   "source": [
    "## Librerías básicas"
   ]
  },
  {
   "cell_type": "code",
   "execution_count": 1,
   "metadata": {},
   "outputs": [],
   "source": [
    "import numpy as np\n",
    "import pandas as pd\n",
    "import basic_stats as bs"
   ]
  },
  {
   "cell_type": "markdown",
   "metadata": {},
   "source": [
    "## Carga de la base de datos"
   ]
  },
  {
   "cell_type": "code",
   "execution_count": 2,
   "metadata": {},
   "outputs": [
    {
     "data": {
      "text/plain": [
       "(94892, 7)"
      ]
     },
     "execution_count": 2,
     "metadata": {},
     "output_type": "execute_result"
    }
   ],
   "source": [
    "df = pd.read_pickle('clean_model_sample.pkl')\n",
    "df.shape"
   ]
  },
  {
   "cell_type": "code",
   "execution_count": 3,
   "metadata": {},
   "outputs": [
    {
     "data": {
      "text/html": [
       "<div>\n",
       "<style scoped>\n",
       "    .dataframe tbody tr th:only-of-type {\n",
       "        vertical-align: middle;\n",
       "    }\n",
       "\n",
       "    .dataframe tbody tr th {\n",
       "        vertical-align: top;\n",
       "    }\n",
       "\n",
       "    .dataframe thead th {\n",
       "        text-align: right;\n",
       "    }\n",
       "</style>\n",
       "<table border=\"1\" class=\"dataframe\">\n",
       "  <thead>\n",
       "    <tr style=\"text-align: right;\">\n",
       "      <th></th>\n",
       "      <th>INTUBADO</th>\n",
       "      <th>SEXO</th>\n",
       "      <th>EDAD</th>\n",
       "      <th>TABAQUISMO</th>\n",
       "      <th>OBESIDAD</th>\n",
       "      <th>ASMA</th>\n",
       "      <th>DIABETES</th>\n",
       "    </tr>\n",
       "  </thead>\n",
       "  <tbody>\n",
       "    <tr>\n",
       "      <th>2298933</th>\n",
       "      <td>0</td>\n",
       "      <td>1</td>\n",
       "      <td>0.83</td>\n",
       "      <td>0</td>\n",
       "      <td>0</td>\n",
       "      <td>0</td>\n",
       "      <td>0</td>\n",
       "    </tr>\n",
       "    <tr>\n",
       "      <th>6251919</th>\n",
       "      <td>0</td>\n",
       "      <td>0</td>\n",
       "      <td>0.43</td>\n",
       "      <td>0</td>\n",
       "      <td>0</td>\n",
       "      <td>0</td>\n",
       "      <td>0</td>\n",
       "    </tr>\n",
       "    <tr>\n",
       "      <th>3910108</th>\n",
       "      <td>0</td>\n",
       "      <td>0</td>\n",
       "      <td>0.51</td>\n",
       "      <td>0</td>\n",
       "      <td>0</td>\n",
       "      <td>0</td>\n",
       "      <td>0</td>\n",
       "    </tr>\n",
       "    <tr>\n",
       "      <th>3203275</th>\n",
       "      <td>0</td>\n",
       "      <td>0</td>\n",
       "      <td>0.75</td>\n",
       "      <td>0</td>\n",
       "      <td>0</td>\n",
       "      <td>0</td>\n",
       "      <td>0</td>\n",
       "    </tr>\n",
       "    <tr>\n",
       "      <th>224077</th>\n",
       "      <td>0</td>\n",
       "      <td>0</td>\n",
       "      <td>0.75</td>\n",
       "      <td>0</td>\n",
       "      <td>0</td>\n",
       "      <td>0</td>\n",
       "      <td>1</td>\n",
       "    </tr>\n",
       "  </tbody>\n",
       "</table>\n",
       "</div>"
      ],
      "text/plain": [
       "         INTUBADO  SEXO  EDAD  TABAQUISMO  OBESIDAD  ASMA  DIABETES\n",
       "2298933         0     1  0.83           0         0     0         0\n",
       "6251919         0     0  0.43           0         0     0         0\n",
       "3910108         0     0  0.51           0         0     0         0\n",
       "3203275         0     0  0.75           0         0     0         0\n",
       "224077          0     0  0.75           0         0     0         1"
      ]
     },
     "execution_count": 3,
     "metadata": {},
     "output_type": "execute_result"
    }
   ],
   "source": [
    "df.head()"
   ]
  },
  {
   "cell_type": "markdown",
   "metadata": {},
   "source": [
    "## Proporciones de intubados por sexo"
   ]
  },
  {
   "cell_type": "markdown",
   "metadata": {},
   "source": [
    "### Proporción general"
   ]
  },
  {
   "cell_type": "code",
   "execution_count": 4,
   "metadata": {},
   "outputs": [
    {
     "name": "stdout",
     "output_type": "stream",
     "text": [
      "p = 0.10411\n"
     ]
    }
   ],
   "source": [
    "total = len(df)\n",
    "intub = df[df['INTUBADO'] == 1]\n",
    "intub_total = len(intub)\n",
    "intub_perc = intub_total / total\n",
    "print(f'p = {intub_perc:.5f}')"
   ]
  },
  {
   "cell_type": "markdown",
   "metadata": {},
   "source": [
    "#### Prueba\n",
    "\n",
    "Dar un intervalo de confianza"
   ]
  },
  {
   "cell_type": "code",
   "execution_count": 5,
   "metadata": {},
   "outputs": [
    {
     "name": "stdout",
     "output_type": "stream",
     "text": [
      "CI = [0.09809, 0.11013] al 95.0%\n"
     ]
    }
   ],
   "source": [
    "alpha = 0.05\n",
    "n = intub_total\n",
    "z = - bs.normal_ppf(alpha, 'center')\n",
    "change = z * np.sqrt(intub_perc * (1 - intub_perc) / n)\n",
    "print(f'CI = [{intub_perc - change:.5f}, {intub_perc + change:.5f}] al {100 * (1 - alpha)}%')"
   ]
  },
  {
   "cell_type": "markdown",
   "metadata": {},
   "source": [
    "Este es el intervalo de confianza para la proporción poblacional de mexicanos intubados"
   ]
  },
  {
   "cell_type": "markdown",
   "metadata": {},
   "source": [
    "### Proporción de hombres y mujeres"
   ]
  },
  {
   "cell_type": "code",
   "execution_count": 6,
   "metadata": {},
   "outputs": [
    {
     "name": "stdout",
     "output_type": "stream",
     "text": [
      "\n",
      "p_m = 0.6237\n",
      "p_f = 0.3763\n",
      "\n"
     ]
    }
   ],
   "source": [
    "intub_male = intub[intub['SEXO'] == 0]\n",
    "intub_female = intub[intub['SEXO'] == 1]\n",
    "prop_male = len(intub_male) / intub_total\n",
    "prop_female = 1 - prop_male\n",
    "print(f'''\n",
    "p_m = {prop_male:.4f}\n",
    "p_f = {prop_female:.4f}\n",
    "''')"
   ]
  },
  {
   "cell_type": "markdown",
   "metadata": {},
   "source": [
    "### Prueba de hipótesis\n",
    "\n",
    "¿Qué tanta diferencia hay entre las proporciones de hombres y mujeres intubados? Nuestra hipótesis es que los hombres llegan a intubarse más seguido que las mujeres\n",
    "\n",
    "$$\n",
    "H_{o}: p_h - p_m = \\delta\n",
    "\\\\\n",
    "H_{a}: p_h - p_m \\geq \\delta\n",
    "$$"
   ]
  },
  {
   "cell_type": "code",
   "execution_count": 7,
   "metadata": {},
   "outputs": [
    {
     "name": "stdout",
     "output_type": "stream",
     "text": [
      "z_alt = 4.3349074590825944\n",
      "z_null = 1.6448536269514722\n",
      "p_value = 7.291072676940402e-06\n",
      "p_value < alpha ?= True\n"
     ]
    }
   ],
   "source": [
    "delta = 0.22\n",
    "# Probar para diferentes valores de delta, la hipótesis nula es que la diferencia entre las proporciones (hombre - mujer) = delta\n",
    "n_male = len(intub_male)\n",
    "n_female = len(intub_female)\n",
    "z_alt = (prop_male - prop_female - delta) / np.sqrt(intub_perc * (1 - intub_perc) * (1 / n_male + 1 / n_female))\n",
    "z_null = bs.normal_ppf(alpha, 'right')\n",
    "p_value = 1 - bs.normal_cdf(z_alt, 0, 1)\n",
    "print(f'''z_alt = {z_alt}\n",
    "z_null = {z_null}''')\n",
    "print(f'''p_value = {p_value}\n",
    "p_value < alpha ?= {p_value < alpha}''')"
   ]
  },
  {
   "cell_type": "markdown",
   "metadata": {},
   "source": [
    "Hay evidencia muy fuerte para afirmar que la diferencia de las proporciones de hombres y mujeres intubados es mayor del 22%, es decir, hay evidencia estadística suficiente para afirmar que los hombres son más susceptibles a ser intubados"
   ]
  },
  {
   "cell_type": "markdown",
   "metadata": {},
   "source": [
    "## Modelo de regresión logística\n",
    "\n",
    "Se busca generar un modelo de regresión logística que pueda clasificar a cada un individuo como intubado o no intubado en base a la presencia de diferentes morbilidades, su edad y su sexo."
   ]
  },
  {
   "cell_type": "markdown",
   "metadata": {},
   "source": [
    "### Librerías básicas"
   ]
  },
  {
   "cell_type": "code",
   "execution_count": 8,
   "metadata": {},
   "outputs": [],
   "source": [
    "from sklearn.model_selection import train_test_split\n",
    "from sklearn.linear_model import LogisticRegression\n",
    "from sklearn.metrics import *"
   ]
  },
  {
   "cell_type": "code",
   "execution_count": 9,
   "metadata": {},
   "outputs": [],
   "source": [
    "df2 = pd.read_pickle('clean_model_sample.pkl')"
   ]
  },
  {
   "cell_type": "markdown",
   "metadata": {},
   "source": [
    "### Creación de datos de prueba"
   ]
  },
  {
   "cell_type": "code",
   "execution_count": 10,
   "metadata": {},
   "outputs": [],
   "source": [
    "variables = ['SEXO', 'EDAD', 'DIABETES', 'TABAQUISMO', 'OBESIDAD', 'ASMA']\n",
    "X_train, X_test, y_train, y_test = train_test_split(df2[variables], \n",
    "                                    df2.INTUBADO, test_size=0.3, random_state=42)"
   ]
  },
  {
   "cell_type": "markdown",
   "metadata": {},
   "source": [
    "### Entrenamiento del modelo"
   ]
  },
  {
   "cell_type": "code",
   "execution_count": 11,
   "metadata": {},
   "outputs": [
    {
     "data": {
      "text/plain": [
       "LogisticRegression(class_weight='auto', max_iter=1000)"
      ]
     },
     "execution_count": 11,
     "metadata": {},
     "output_type": "execute_result"
    }
   ],
   "source": [
    "model = LogisticRegression(max_iter=1000, class_weight='auto')\n",
    "model.fit(X_train, y_train)"
   ]
  },
  {
   "cell_type": "markdown",
   "metadata": {},
   "source": [
    "### Predicciones de la categorización de los individuos en los datos de prueba"
   ]
  },
  {
   "cell_type": "code",
   "execution_count": 12,
   "metadata": {},
   "outputs": [
    {
     "data": {
      "text/plain": [
       "0"
      ]
     },
     "execution_count": 12,
     "metadata": {},
     "output_type": "execute_result"
    }
   ],
   "source": [
    "predictions = model.predict(X_test)\n",
    "np.count_nonzero(predictions == 1)"
   ]
  },
  {
   "cell_type": "code",
   "execution_count": 13,
   "metadata": {},
   "outputs": [
    {
     "data": {
      "text/plain": [
       "2985"
      ]
     },
     "execution_count": 13,
     "metadata": {},
     "output_type": "execute_result"
    }
   ],
   "source": [
    "np.count_nonzero(y_test == 1)"
   ]
  },
  {
   "cell_type": "markdown",
   "metadata": {},
   "source": [
    "### Probabilidad de resultados\n",
    "\n",
    "Se muestra en un formato tabular la probabilidad de que cada individuo (renglón) sea categorizado como intubado o no intubado (columna)"
   ]
  },
  {
   "cell_type": "code",
   "execution_count": 14,
   "metadata": {},
   "outputs": [
    {
     "data": {
      "text/plain": [
       "array([[0.91100174, 0.08899826],\n",
       "       [0.91440944, 0.08559056],\n",
       "       [0.93786038, 0.06213962],\n",
       "       ...,\n",
       "       [0.87287556, 0.12712444],\n",
       "       [0.93372867, 0.06627133],\n",
       "       [0.82391864, 0.17608136]])"
      ]
     },
     "execution_count": 14,
     "metadata": {},
     "output_type": "execute_result"
    }
   ],
   "source": [
    "model.predict_proba(X_test)"
   ]
  },
  {
   "cell_type": "markdown",
   "metadata": {},
   "source": [
    "### Pesos de cada variable"
   ]
  },
  {
   "cell_type": "code",
   "execution_count": 15,
   "metadata": {},
   "outputs": [
    {
     "name": "stdout",
     "output_type": "stream",
     "text": [
      "SEXO       0.42115\n",
      "EDAD       0.68971\n",
      "DIABETES   0.52555\n",
      "TABAQUISMO 0.48082\n",
      "OBESIDAD   0.60617\n",
      "ASMA       0.47138\n"
     ]
    }
   ],
   "source": [
    "coef = model.coef_[0]\n",
    "coef = [np.exp(x)/(1 + np.exp(x)) for x in coef]\n",
    "for i, v in enumerate(variables):\n",
    "    print(f'{v:<10} {coef[i]:.5f}')"
   ]
  },
  {
   "cell_type": "markdown",
   "metadata": {},
   "source": [
    "### Métricas del modelo"
   ]
  },
  {
   "cell_type": "code",
   "execution_count": 16,
   "metadata": {},
   "outputs": [
    {
     "name": "stdout",
     "output_type": "stream",
     "text": [
      "\n",
      "Precisión = 89.514543%\n",
      "ROC_AUC = 50.000000%\n",
      "\n"
     ]
    }
   ],
   "source": [
    "accuracy = accuracy_score(y_test, predictions)\n",
    "roc = roc_auc_score(y_test, predictions)\n",
    "print(f'''\n",
    "Precisión = {accuracy * 100:.6f}%\n",
    "ROC_AUC = {roc * 100:.6f}%\n",
    "''')"
   ]
  },
  {
   "cell_type": "code",
   "execution_count": 17,
   "metadata": {},
   "outputs": [
    {
     "data": {
      "text/plain": [
       "array([[0.8980371, 0.1019629]])"
      ]
     },
     "execution_count": 17,
     "metadata": {},
     "output_type": "execute_result"
    }
   ],
   "source": [
    "test_subject = np.array([[0, 0.5, 0, 0, 0, 0]])\n",
    "model.predict_proba(test_subject)"
   ]
  }
 ],
 "metadata": {
  "interpreter": {
   "hash": "a78c4be66ba3b4a897c6e596b18611fdff70693afae29e50365a94a133cff73c"
  },
  "kernelspec": {
   "display_name": "Python 3.9.7 64-bit",
   "name": "python3"
  },
  "language_info": {
   "codemirror_mode": {
    "name": "ipython",
    "version": 3
   },
   "file_extension": ".py",
   "mimetype": "text/x-python",
   "name": "python",
   "nbconvert_exporter": "python",
   "pygments_lexer": "ipython3",
   "version": "3.9.7"
  },
  "orig_nbformat": 4
 },
 "nbformat": 4,
 "nbformat_minor": 2
}
